{
  "nbformat": 4,
  "nbformat_minor": 0,
  "metadata": {
    "colab": {
      "name": "Python",
      "provenance": [],
      "collapsed_sections": []
    },
    "kernelspec": {
      "name": "python3",
      "display_name": "Python 3"
    },
    "language_info": {
      "name": "python"
    }
  },
  "cells": [
    {
      "cell_type": "markdown",
      "metadata": {
        "id": "EIx7rUU0WAnB"
      },
      "source": [
        "                                                      \n",
        "#                                                       **Python Fundamentals**"
      ]
    },
    {
      "cell_type": "markdown",
      "metadata": {
        "id": "-71PCUeoYjX8"
      },
      "source": [
        "First we must know that python is a case-senstive language. It means that a and A are not same."
      ]
    },
    {
      "cell_type": "code",
      "metadata": {
        "id": "rOUpcXg-WoBv"
      },
      "source": [
        "print(\"hello world\") #This prints hello world to the console"
      ],
      "execution_count": null,
      "outputs": []
    },
    {
      "cell_type": "markdown",
      "metadata": {
        "id": "aQl_m-iwY5SG"
      },
      "source": [
        "**1. Variables**\n"
      ]
    },
    {
      "cell_type": "code",
      "metadata": {
        "id": "He9VOHaOXMLq"
      },
      "source": [
        "x = 2  # The variable x holds the value 2   \n",
        "y = 3  # The variable y holds the value 3\n",
        "print(x+y) #Adds the value x and y and prints the sum"
      ],
      "execution_count": null,
      "outputs": []
    },
    {
      "cell_type": "markdown",
      "metadata": {
        "id": "3QPglJ6tYCkl"
      },
      "source": [
        "The value x and y are called variables because the values of x and y can be changed or can hold any value. If the value is fixed, then it is called constant."
      ]
    },
    {
      "cell_type": "code",
      "metadata": {
        "id": "dxcDq93mXe1v"
      },
      "source": [
        "first_name = \"Niraj\" # Here first_name is variable, Niraj is string becasue it is encoted in \"  \" and = is the assignment operator."
      ],
      "execution_count": null,
      "outputs": []
    },
    {
      "cell_type": "markdown",
      "metadata": {
        "id": "QoSWWeBfaSiQ"
      },
      "source": [
        "Variables name should start with letter or underscore(_). It cannot start with number."
      ]
    },
    {
      "cell_type": "code",
      "metadata": {
        "id": "rKE8ZMN1Xe4K"
      },
      "source": [
        "1name = \"Niraj\" # It gives error because the variable name cannot start with numeric value."
      ],
      "execution_count": null,
      "outputs": []
    },
    {
      "cell_type": "code",
      "metadata": {
        "id": "a-Podj5kXe7z"
      },
      "source": [
        "name7 = \"Niraj\"\n",
        "print(name7 ) # It doesn't show error, because numbers can be a character in variable."
      ],
      "execution_count": null,
      "outputs": []
    },
    {
      "cell_type": "code",
      "metadata": {
        "colab": {
          "base_uri": "https://localhost:8080/"
        },
        "id": "JwQ_EvMLHi_0",
        "outputId": "79a0a409-ee00-4fee-c4c4-797f0d3adfbb"
      },
      "source": [
        "name7 = \"Niraj\"\n",
        "print(\"name7\") # It prints the variable not the value assigned to the variable. "
      ],
      "execution_count": null,
      "outputs": [
        {
          "output_type": "stream",
          "text": [
            "name7\n"
          ],
          "name": "stdout"
        }
      ]
    },
    {
      "cell_type": "markdown",
      "metadata": {
        "id": "wKEreP_7IbKg"
      },
      "source": [
        "**2. Python Data Types**\n"
      ]
    },
    {
      "cell_type": "markdown",
      "metadata": {
        "id": "eAhlKYWWIq5z"
      },
      "source": [
        "Python has the following dat types. \n",
        "\n",
        "1) String - eg name = \"Niraj\"\n",
        "\n",
        "2) Numeric( Int or Float) - eg value =  2 is integer whereas value = 2.5 is float\n",
        "\n",
        "3) list - eg animals = [ \"cat\" , \"dog\", \"cow\" ] # list uses square brackets\n",
        "\n",
        "4) Set - eg subject = { \"R\", \"python\", \"sequel\" } # Set uses curly braces\n",
        "\n",
        "5) Tuple - eg color = ( \"blue\", \"green\", \"red\" ) #Tuple uses parenthesis\n",
        "\n",
        "6) Range - eg x = range(10) # gives the value from 0 to 9\n",
        "\n",
        "7) Dictionary - eg { name: \"Niraj\" , age: 25 ) #Key value pairs \n",
        "\n",
        "8) is_value = True # Returns either True or False"
      ]
    },
    {
      "cell_type": "code",
      "metadata": {
        "id": "_0GO5BaZLkZE"
      },
      "source": [
        "name = \"Niraj\"\n",
        "print(type(name)) # It gives the type of name i.e which value is assigned to name"
      ],
      "execution_count": null,
      "outputs": []
    },
    {
      "cell_type": "code",
      "metadata": {
        "id": "C4wMbq4BMhqc"
      },
      "source": [
        "value = 7.5\n",
        "print(type(value)) # It gives type as float"
      ],
      "execution_count": null,
      "outputs": []
    },
    {
      "cell_type": "code",
      "metadata": {
        "id": "7I48inWdNNLu"
      },
      "source": [
        "value = int(7.5)\n",
        "print(type(value)) # It gives type as integer because we have converted float to integer"
      ],
      "execution_count": null,
      "outputs": []
    },
    {
      "cell_type": "markdown",
      "metadata": {
        "id": "ebM9Y9aJOpas"
      },
      "source": [
        "Conversion of one data type to the other data type is called typecasting."
      ]
    },
    {
      "cell_type": "markdown",
      "metadata": {
        "id": "eGn8HhWyPY-0"
      },
      "source": [
        "**3. Python Operators**\n",
        "\n",
        "Operators are symbol that help perform operations between values and variable.Operators in python are as follows:\n",
        "\n",
        "\n",
        "\n"
      ]
    },
    {
      "cell_type": "markdown",
      "metadata": {
        "id": "rw0d1ddgQroH"
      },
      "source": [
        "\n",
        "\n",
        "* Arithmetic operators \n",
        "* Assignment operators\n",
        "* Comparison operators\n",
        "* Logical operators\n",
        "* Identity operators\n",
        "* Membership operators\n",
        "* Bitwise operators\n",
        "\n",
        "\n",
        "\n",
        "\n",
        "\n",
        "\n",
        "\n",
        "\n",
        "\n",
        "\n"
      ]
    },
    {
      "cell_type": "markdown",
      "metadata": {
        "id": "eqL4VV6tRnaP"
      },
      "source": [
        "**3.1 Arithmetic operators**"
      ]
    },
    {
      "cell_type": "code",
      "metadata": {
        "id": "Eb7z-9BIRvEX"
      },
      "source": [
        "#Addition ( + )\n",
        "2 + 3"
      ],
      "execution_count": null,
      "outputs": []
    },
    {
      "cell_type": "code",
      "metadata": {
        "id": "aMyl3rsUR1fV"
      },
      "source": [
        "\"2\" + \"3\" # The ouput is 23 because the characters are string and + operator joins the string which is called string concatination."
      ],
      "execution_count": null,
      "outputs": []
    },
    {
      "cell_type": "code",
      "metadata": {
        "id": "j20wBWzzR7Yl"
      },
      "source": [
        "# Subtraction ( - )\n",
        "3-2"
      ],
      "execution_count": null,
      "outputs": []
    },
    {
      "cell_type": "code",
      "metadata": {
        "id": "R9gCgWS4SQ_S"
      },
      "source": [
        "# Multiplication ( * )\n",
        "2*3"
      ],
      "execution_count": null,
      "outputs": []
    },
    {
      "cell_type": "code",
      "metadata": {
        "id": "pYJbw76NSbxj"
      },
      "source": [
        "#Divison ( / )\n",
        "4/2"
      ],
      "execution_count": null,
      "outputs": []
    },
    {
      "cell_type": "code",
      "metadata": {
        "id": "aLajmvQJjZEA"
      },
      "source": [
        "#Floor Division ( // )\n",
        "5//2  #It gives the interger value i.e it eliminates the decimal values and gives the result."
      ],
      "execution_count": null,
      "outputs": []
    },
    {
      "cell_type": "code",
      "metadata": {
        "id": "Cg9h5XhmSfD9"
      },
      "source": [
        "#Modulus ( % )\n",
        "4%3           # It gives output as 1 because modulus sign yields the remainder of the division"
      ],
      "execution_count": null,
      "outputs": []
    },
    {
      "cell_type": "markdown",
      "metadata": {
        "id": "99im7-uUio1v"
      },
      "source": [
        "**3.2 Assignment Operator**\n"
      ]
    },
    {
      "cell_type": "code",
      "metadata": {
        "id": "N0GfjAH6ity8"
      },
      "source": [
        "# = operator assigns the value\n",
        "x = 3 # Here 3 is assigned to x using the operator = which is a assignment operator."
      ],
      "execution_count": null,
      "outputs": []
    },
    {
      "cell_type": "code",
      "metadata": {
        "id": "0-SqbJW_j302"
      },
      "source": [
        "# +=\n",
        "x = 1\n",
        "x += 2 # Here x += 2 means x = x + 2. The value of x was assigned 1. So, x = 1 + 2 which gives output as 3.\n",
        "print(x) "
      ],
      "execution_count": null,
      "outputs": []
    },
    {
      "cell_type": "markdown",
      "metadata": {
        "id": "A0W0QlTKk34O"
      },
      "source": [
        "We can use -= , *= , and likewise all arithmetic operator and many more.\n"
      ]
    },
    {
      "cell_type": "markdown",
      "metadata": {
        "id": "rrdTw2wXlg0b"
      },
      "source": [
        "**3.3 Comparison Operator**\n"
      ]
    },
    {
      "cell_type": "code",
      "metadata": {
        "id": "yN2CiljWlhu8"
      },
      "source": [
        "# == is a comparison operator. It returns the output as True or False.\n",
        "a = 3\n",
        "b = 2\n",
        "a == b  # It checks if a is equal to b. If a = b then the result is True else False."
      ],
      "execution_count": null,
      "outputs": []
    },
    {
      "cell_type": "code",
      "metadata": {
        "colab": {
          "base_uri": "https://localhost:8080/"
        },
        "id": "VppVkiuSqz5S",
        "outputId": "2870246f-ad72-4b83-e19d-91f61a047194"
      },
      "source": [
        "a = 3\n",
        "b = 2\n",
        "a != b # a is not equal to b, so the output will be True."
      ],
      "execution_count": null,
      "outputs": [
        {
          "output_type": "execute_result",
          "data": {
            "text/plain": [
              "True"
            ]
          },
          "metadata": {
            "tags": []
          },
          "execution_count": 18
        }
      ]
    },
    {
      "cell_type": "markdown",
      "metadata": {
        "id": "OgfnS_YgmwLY"
      },
      "source": [
        "Likewise it can be done for >,  <,  >= , <= .\n",
        "\n",
        "\n",
        "\n"
      ]
    },
    {
      "cell_type": "markdown",
      "metadata": {
        "id": "2BGSB49HmNJa"
      },
      "source": [
        "**3.4 Logical Operator**"
      ]
    },
    {
      "cell_type": "code",
      "metadata": {
        "id": "d1tNqhmzmP2o"
      },
      "source": [
        "# logical operator includes and , or and not. \n",
        "#and\n",
        "a = 2\n",
        "b = 3\n",
        "c = 4\n",
        "if a < b and a < c: # It checks if a is lesser than b and c. Both the conditions must be satisfied.\n",
        "  print(a) # Both condition are satisfied, so a will be printed which is 2.\n",
        "else:\n",
        "    print(b) # If those conditions wouldn't satisfy, then b will be printed."
      ],
      "execution_count": null,
      "outputs": []
    },
    {
      "cell_type": "code",
      "metadata": {
        "id": "VXCafqEpoh_3"
      },
      "source": [
        "# or\n",
        "a = 2\n",
        "b = 3\n",
        "c = 4\n",
        "if a < b or a > c: # It checks if a is lesser than b or greater then c. Alleast one condition must be satisfied. \n",
        "  print(\"true\") # a is not greater than c, but a is less then b.Atleast, one condition is satisfied.So, true will be printed.\n",
        "else:\n",
        "    print(\"false\") # If atleast one condition wouldn't satisfy, then false will be printed."
      ],
      "execution_count": null,
      "outputs": []
    },
    {
      "cell_type": "code",
      "metadata": {
        "id": "VB0qUnt5p2EV"
      },
      "source": [
        "#not\n",
        "a = 2\n",
        "b = 3\n",
        "if not(a > b ): # It means that if a is not greater than b then print a.Else, print b.\n",
        "  print (a)  # a is not greater than b , so a will be printed.\n",
        "else:\n",
        "  print(b)"
      ],
      "execution_count": null,
      "outputs": []
    },
    {
      "cell_type": "markdown",
      "metadata": {
        "id": "30xsPwtwr57y"
      },
      "source": [
        "**3.5 Identity Operator**"
      ]
    },
    {
      "cell_type": "code",
      "metadata": {
        "id": "Ak1zgRk9r91v"
      },
      "source": [
        " #is\n",
        " a = 2\n",
        " b = 2\n",
        " a is b # \tReturns True if both variables are the same object"
      ],
      "execution_count": null,
      "outputs": []
    },
    {
      "cell_type": "code",
      "metadata": {
        "id": "GShZQ-qZsHv8"
      },
      "source": [
        "#is not\n",
        "a = 2\n",
        "b = 3\n",
        "a is not b #\tReturns True if both variables are not the same object"
      ],
      "execution_count": null,
      "outputs": []
    },
    {
      "cell_type": "markdown",
      "metadata": {
        "id": "v5VtUXjSsyAq"
      },
      "source": [
        "**3.6 Membership Operators**"
      ]
    },
    {
      "cell_type": "code",
      "metadata": {
        "id": "b_A0RCtss_xT"
      },
      "source": [
        "x = [\"apple\", \"banana\"]\n",
        "\n",
        "print(\"banana\" in x) # returns True because a sequence with the value \"banana\" is in the list"
      ],
      "execution_count": null,
      "outputs": []
    },
    {
      "cell_type": "code",
      "metadata": {
        "id": "aCK2sVlJtOXp"
      },
      "source": [
        "x = [\"apple\", \"banana\"]\n",
        "\n",
        "print(\"pineapple\" not in x) # returns True because a sequence with the value \"pineapple\" is not in the list"
      ],
      "execution_count": null,
      "outputs": []
    },
    {
      "cell_type": "markdown",
      "metadata": {
        "id": "oxSLMGTXvDeI"
      },
      "source": [
        "**Starting with minor codes**"
      ]
    },
    {
      "cell_type": "code",
      "metadata": {
        "id": "P1SSAVZpvIf3"
      },
      "source": [
        "# Checking whether the number is odd or even\n",
        "a = 4\n",
        "if a % 2 == 0: # It checks if the remainder is 0 or not i.e if the number is exactly divisible by 2 or not\n",
        "  print(\"the number is even\")\n",
        "else:\n",
        "  print(\"the number is odd\")"
      ],
      "execution_count": null,
      "outputs": []
    },
    {
      "cell_type": "markdown",
      "metadata": {
        "id": "YTmGnK0L4byL"
      },
      "source": [
        "Similarly, odd number can be checked by doing a % 2 == 1"
      ]
    },
    {
      "cell_type": "code",
      "metadata": {
        "id": "a9Pin3Iy4oyu"
      },
      "source": [
        " #prime or composite\n",
        "number = int(input(\"enter the value that you want to check\"))\n",
        "x = 0\n",
        "for i in range(1, number+1): #It indicates range from 1 to the number you insert + 1.\n",
        "    if number % i == 0: # Checks for the each value in the range and checks if the number is divisible by any number of the range or not\n",
        "      x += 1 # x gets increased by 1\n",
        "if x > 2:\n",
        "        print(\"the number is composite number\") # to be a composite number the value must be greater than 2 and must be divisible by other number\n",
        "else:\n",
        "        print(\"the number is prime number\")"
      ],
      "execution_count": null,
      "outputs": []
    },
    {
      "cell_type": "code",
      "metadata": {
        "id": "5XlwKIuj5Rwy"
      },
      "source": [
        "#fabonacci series\n",
        "number = int(input(\"enter the number of terms\")) \n",
        "t1 = 0 # It is the first term of the series\n",
        "t2 = 1 # It is the second term of the series\n",
        "i = 0\n",
        "if number <= 0:\n",
        "    print(\"please enter the positive integer\") # if the number is inserted 0 or negative number than the positive number must be entered.\n",
        "else:\n",
        "    print(\"the fabonacci series is\")\n",
        "while i < number:\n",
        "    print(t2)\n",
        "    t3 = t1 + t2\n",
        "    t1=t2\n",
        "    t2=t3\n",
        "    i= i +1"
      ],
      "execution_count": null,
      "outputs": []
    },
    {
      "cell_type": "code",
      "metadata": {
        "id": "0jIGhu5t9YkO"
      },
      "source": [
        "#Record of the students\n",
        "student_details = \" \"\n",
        "num_students = int(input(\"enter the number of students\"))\n",
        "for i in range(num_students):\n",
        "  name = input(\"enter student name\")\n",
        "  age = int(input(\"enter students age\")) #must be integer value\n",
        "  sex = input(\"enter sex\")\n",
        "  grade = int(input(\"enter students grade\")) # must be integer value\n",
        "  student_details = student_details+\"\\n\" + name +\"\\n\" + str(age) +\"\\n\" + sex +\"\\n\" + str(grade) #concatinating strings\n",
        "print(student_details)"
      ],
      "execution_count": null,
      "outputs": []
    },
    {
      "cell_type": "code",
      "metadata": {
        "id": "8sw-PrxE_hoS"
      },
      "source": [
        "# Checking grade\n",
        "name = input(\"enter name\")\n",
        "physics = int(input(\"enter the physics marks\"))\n",
        "chem = int(input(\"enter the chem marks\"))\n",
        "total = physics + chem\n",
        "if total / 2 > 80:\n",
        "    grade = \"A\"\n",
        "else:\n",
        "    grade = \"less than A\"\n",
        "print(name+\"\\n\"+\"Your total is\" +\" \"+str(total) +\"\\n\" +\"your grade is\" +\" \" +grade + \"\\n\")"
      ],
      "execution_count": null,
      "outputs": []
    },
    {
      "cell_type": "code",
      "metadata": {
        "id": "iDPfNbryBEhZ"
      },
      "source": [
        "# Factorial of a number\n",
        "fac = 1\n",
        "n = int(input(\"enter the number whose factorial you want to see\"))\n",
        "for i in range(1,n+1):\n",
        "  fac = fac * i \n",
        "  print(fac)"
      ],
      "execution_count": null,
      "outputs": []
    },
    {
      "cell_type": "markdown",
      "metadata": {
        "id": "b4abtntnDMh-"
      },
      "source": [
        "**Function**"
      ]
    },
    {
      "cell_type": "code",
      "metadata": {
        "id": "nz4JDqC_DlNl"
      },
      "source": [
        "def first_function(): # defining the function\n",
        "  return \"hello world\" # hello world is returned to the function\n",
        "print(first_function()) # So, when we call function, it shows the value of the function"
      ],
      "execution_count": null,
      "outputs": []
    },
    {
      "cell_type": "code",
      "metadata": {
        "id": "s4yVW4xjDPFK"
      },
      "source": [
        "def sum():\n",
        "  a = 2\n",
        "  b = 3\n",
        "  return a + b # here the sum of a and b is returned to the function sum\n",
        "print(sum()) #so when the function is called, it prints 5"
      ],
      "execution_count": null,
      "outputs": []
    },
    {
      "cell_type": "code",
      "metadata": {
        "id": "d2qqk5eyDkZw"
      },
      "source": [
        "# User value input to find area and volume from local variable\n",
        "def cal(): \n",
        "    l = int(input(\"enter the value of l:\" )) #localVariable\n",
        "    b = int(input(\"enter the value of b:\" ))\n",
        "    a = l * b\n",
        "    return a\n",
        "print(\"the area is =\",cal())\n",
        "print(\"the volume is =\",cal() * 5)"
      ],
      "execution_count": null,
      "outputs": []
    },
    {
      "cell_type": "code",
      "metadata": {
        "id": "y67EJ381De50"
      },
      "source": [
        "# User value input to find area and volume from Global variable\n",
        "def cal():  \n",
        "    a = l * b \n",
        "    return a\n",
        "l = int(input(\"enter the value of a:\" )) #GlobalValue\n",
        "b = int(input(\"enter the value of b:\" ))\n",
        "h = int(input(\"enter the value of h:\"))\n",
        "print(\"the area is =\",cal())\n",
        "print(\"the volume is =\",cal() * 5)"
      ],
      "execution_count": null,
      "outputs": []
    },
    {
      "cell_type": "code",
      "metadata": {
        "id": "6yTsrPzFHBY6"
      },
      "source": [
        "#Passing the value through argument\n",
        "def cal(l, b, h):  \n",
        "    a = l * b\n",
        "    v = a * h\n",
        "    return a , v\n",
        "l = int(input(\"enter the value of l:\" ))\n",
        "b = int(input(\"enter the value of b:\" ))\n",
        "h = int(input(\"enter the value of h:\" ))\n",
        "ar = cal (l, b, h)\n",
        "print (ar)\n",
        "area , volume = ar\n",
        "print(\"the area is =\",area )\n",
        "print(\"the volume is =\",volume)"
      ],
      "execution_count": null,
      "outputs": []
    },
    {
      "cell_type": "markdown",
      "metadata": {
        "id": "8Gm76RzoFycu"
      },
      "source": [
        "# Python List"
      ]
    },
    {
      "cell_type": "code",
      "metadata": {
        "id": "01QQFIKsF13G"
      },
      "source": [
        "#LIST (follows indexing, duplicat members, ordered,mutable)\n",
        "a = [ 1, 2, 3, 4, 5] # list is enclosed in a square bracket where elements are separated by comma\n",
        "print(a[0]) # It shows the first element of the list"
      ],
      "execution_count": null,
      "outputs": []
    },
    {
      "cell_type": "code",
      "metadata": {
        "id": "UPZwedzQGxj8"
      },
      "source": [
        "a = [ 1, 2, 3, 4, 5]\n",
        "print(a[-1]) # prints the last element\n",
        "print(a[0:3]) # prints the first to third element in the list"
      ],
      "execution_count": null,
      "outputs": []
    },
    {
      "cell_type": "code",
      "metadata": {
        "id": "TKLD9FohHTHV"
      },
      "source": [
        "fruits = [ \"apple\", \"mango\"]\n",
        "more_fruits = [ \"papaya\", \"guava\"]\n",
        "print(fruits + more_fruits) # List is concatenated\n",
        "print(fruits * 2) # Elements of the list are repeated"
      ],
      "execution_count": null,
      "outputs": []
    },
    {
      "cell_type": "code",
      "metadata": {
        "colab": {
          "base_uri": "https://localhost:8080/"
        },
        "id": "-fhyadY_H9Jq",
        "outputId": "af9f4290-9459-4083-d103-50855e4e6bda"
      },
      "source": [
        "#Updating in list\n",
        "a = [ 1, 2, 3, 4, 5] \n",
        "a[0] = \"new\" # It changes the first element to new\n",
        "print(a)"
      ],
      "execution_count": null,
      "outputs": [
        {
          "output_type": "stream",
          "text": [
            "['new', 2, 3, 4, 5]\n"
          ],
          "name": "stdout"
        }
      ]
    },
    {
      "cell_type": "code",
      "metadata": {
        "id": "zHRmE_2gIbJc"
      },
      "source": [
        "# User defined list\n",
        "names = []\n",
        "n = int(input(\"enter the number of name\")) \n",
        "for i in range(n):\n",
        "  name = input(\"enter the name\")\n",
        "  names = names + [name] # creates a list of name\n",
        "print(names)"
      ],
      "execution_count": null,
      "outputs": []
    },
    {
      "cell_type": "code",
      "metadata": {
        "id": "9APG2Y07JNE1"
      },
      "source": [
        "#sorting and reversing in the list\n",
        "numbers = [ ]\n",
        "n = int(input(\"enter the number of numbers you want to include\"))\n",
        "for i in range(n):\n",
        "  number = int(input(\"enter the number\"))\n",
        "  numbers = numbers + [number]\n",
        "print(numbers)\n",
        "print(\"the maximum number is\", max(numbers))\n",
        "print(\"the minimum number is\", min(numbers))\n",
        "print(\"the average number is\", sum(numbers)/n)\n",
        "numbers.sort()\n",
        "print(\"the numbers after sorting is\", numbers)\n",
        "numbers.reverse()\n",
        "print(\"the numbers after reversing is\", numbers)"
      ],
      "execution_count": null,
      "outputs": []
    },
    {
      "cell_type": "code",
      "metadata": {
        "colab": {
          "base_uri": "https://localhost:8080/"
        },
        "id": "TvaT4jprKL_6",
        "outputId": "6cd64f87-dbef-4ca8-ca0d-e02b95d90d40"
      },
      "source": [
        "#finding the length\n",
        "names = [\"Niraj\",\"Pradip\",\"Bishnu\",\"umesh\"]\n",
        "len(names) # Gives the number of characters in the list"
      ],
      "execution_count": null,
      "outputs": [
        {
          "output_type": "execute_result",
          "data": {
            "text/plain": [
              "4"
            ]
          },
          "metadata": {
            "tags": []
          },
          "execution_count": 17
        }
      ]
    },
    {
      "cell_type": "code",
      "metadata": {
        "id": "yGIlmzhbM4-t"
      },
      "source": [
        "#finding the index of element\n",
        "names = [\"Niraj\",\"Pradip\",\"Bishnu\",\"umesh\"]\n",
        "value = input(\"value\")\n",
        "for i in range(len(names)):\n",
        "  if value == names[i]:\n",
        "    print(i)"
      ],
      "execution_count": null,
      "outputs": []
    },
    {
      "cell_type": "code",
      "metadata": {
        "id": "cmby864LNpZd"
      },
      "source": [
        "#using append in list\n",
        "names = [\"Niraj\",\"Pradip\",\"Bishnu\"]\n",
        "n = int(input(\"enter the number of names you would like to add:\"))\n",
        "for i in range(n):\n",
        "  name = input(\"enter the name:\")\n",
        "  names.append(name)\n",
        "print(names)"
      ],
      "execution_count": null,
      "outputs": []
    },
    {
      "cell_type": "code",
      "metadata": {
        "id": "k3F7RTCGOdlj"
      },
      "source": [
        "#Updating the list\n",
        "names = [\"Niraj\",\"Pradip\",\"Bishnu\"]\n",
        "names[1] = \"sani\"\n",
        "names"
      ],
      "execution_count": null,
      "outputs": []
    },
    {
      "cell_type": "code",
      "metadata": {
        "id": "Z1-S9iMSQje6"
      },
      "source": [
        "# insering the value in list\n",
        "names = [\"Niraj\",\"Pradip\",\"Bishnu\"]\n",
        "names.insert(1, \"sani\")\n",
        "names"
      ],
      "execution_count": null,
      "outputs": []
    },
    {
      "cell_type": "code",
      "metadata": {
        "id": "-nvJmb-dQ2To"
      },
      "source": [
        "#removing from the list\n",
        "names = [\"Niraj\",\"sani\",\"Pradip\",\"Bishnu\",\"sani\"]\n",
        "names.remove(\"sani\")\n",
        "names"
      ],
      "execution_count": null,
      "outputs": []
    },
    {
      "cell_type": "code",
      "metadata": {
        "id": "WSjgPPw5RN7O"
      },
      "source": [
        "#removing multiples value of same names from the list\n",
        "names = [\"Niraj\",\"sani\",\"Pradip\",\"Bishnu\",\"sani\"]\n",
        "for i in names:\n",
        "  if i == \"sani\":\n",
        "    names.remove(i)\n",
        "print(names)"
      ],
      "execution_count": null,
      "outputs": []
    },
    {
      "cell_type": "code",
      "metadata": {
        "id": "anx5wkk-Ro-i"
      },
      "source": [
        "# delete and pop\n",
        "names = [\"Niraj\",\"sani\",\"Pradip\",\"Bishnu\",\"sani\"]\n",
        "del names[0] # deleted the first character\n",
        "print(names)\n",
        "b = names.pop(3) # popped the third character\n",
        "print(b) # pop return deleted value from the list and del does not return anything.\n",
        "print(names)"
      ],
      "execution_count": null,
      "outputs": []
    },
    {
      "cell_type": "code",
      "metadata": {
        "id": "LNXkGxB_TIin"
      },
      "source": [
        "# Clear to empty the list\n",
        "names = [\"Niraj\",\"sani\",\"Pradip\",\"Bishnu\",\"sani\"]\n",
        "names.clear()\n",
        "names"
      ],
      "execution_count": null,
      "outputs": []
    },
    {
      "cell_type": "code",
      "metadata": {
        "id": "9CfFyQG1U9pE"
      },
      "source": [
        "#List inside list\n",
        "names = [[\"ram\"],[\"shyam\"],[\"hari\"]]\n",
        "print(names)\n",
        "a = [ [1,2,3] , \n",
        "      [4,5,6] ,\n",
        "      [7,8,9] ]\n",
        "print(a)"
      ],
      "execution_count": null,
      "outputs": []
    },
    {
      "cell_type": "code",
      "metadata": {
        "id": "B1szuh4FVP_a"
      },
      "source": [
        "#Creating user input list inside list\n",
        "output = [ ]\n",
        "n = int(input(\"enter the number of elements:\"))\n",
        "for i in range(n):\n",
        "  name = input(\"enter the name:\")\n",
        "  address = input(\"enter the address:\")\n",
        "  age = int(input(\"enter the age:\"))\n",
        "  info = [ name, address , age ]\n",
        "  output.append(info)\n",
        "print(output)"
      ],
      "execution_count": null,
      "outputs": []
    },
    {
      "cell_type": "code",
      "metadata": {
        "id": "TvOc04tfKjAp"
      },
      "source": [
        "# using + operator to add the list\n",
        "a = [['ram',34,'kathmandu']]\n",
        "b = [['shyam',56,'patam']]\n",
        "c = a + b\n",
        "print(c)"
      ],
      "execution_count": null,
      "outputs": []
    },
    {
      "cell_type": "code",
      "metadata": {
        "id": "BOvuqkBpMBHd"
      },
      "source": [
        "# Adding the element to the first list of the list inside list\n",
        "a = [['ram',34,'kathmandu']]\n",
        "b = [['shyam',56,'patam']]\n",
        "c = a + b\n",
        "c[0].append(\"nepal\")\n",
        "print(c)"
      ],
      "execution_count": null,
      "outputs": []
    },
    {
      "cell_type": "code",
      "metadata": {
        "id": "p--B6GlzMHC2"
      },
      "source": [
        "#list inside list\n",
        "a = [ ] \n",
        "l = int(input(\"enter the value of r\"))\n",
        "b = int(input(\"enter the value of b\"))\n",
        "for i in range(l):\n",
        "  y = [ ]\n",
        "  for j in range(b):\n",
        "    x = int(input(\"enter the value of x\"))\n",
        "    y.append(x)\n",
        "  a.append(y)\n",
        "print(a)  "
      ],
      "execution_count": null,
      "outputs": []
    },
    {
      "cell_type": "code",
      "metadata": {
        "colab": {
          "base_uri": "https://localhost:8080/"
        },
        "id": "xP1xrEsEMxSd",
        "outputId": "b29f293e-df52-4a38-82dd-74eccd0c7139"
      },
      "source": [
        "# creating vegetables details\n",
        "vegetables_details = [ ] \n",
        "n = int(input(\"enter the number of vegetables \"))\n",
        "for i in range(n):\n",
        "  item = input(\"enter the item name\")\n",
        "  rate = float(input(\"enter the rate of item per kg\"))\n",
        "  kg = int(input(\"enter the number of kgs to purchase\"))\n",
        "  total_price = rate * kg\n",
        "  info = [ item, rate, kg, total_price]\n",
        "  vegetables_details.append(info)\n",
        "print(vegetables_details)"
      ],
      "execution_count": null,
      "outputs": [
        {
          "output_type": "stream",
          "text": [
            "enter the number of vegetables 3\n",
            "enter the item nameonion\n",
            "enter the rate of item per kg25\n",
            "enter the number of kgs to purchase3\n",
            "enter the item namepotato\n",
            "enter the rate of item per kg20\n",
            "enter the number of kgs to purchase6\n",
            "enter the item nametomato\n",
            "enter the rate of item per kg15\n",
            "enter the number of kgs to purchase2\n",
            "[['onion', 25.0, 3, 75.0], ['potato', 20.0, 6, 120.0], ['tomato', 15.0, 2, 30.0]]\n"
          ],
          "name": "stdout"
        },
        {
          "output_type": "execute_result",
          "data": {
            "text/plain": [
              "[['onion', 25, 3, 75], ['potato', 20, 6, 120]]"
            ]
          },
          "metadata": {
            "tags": []
          },
          "execution_count": 9
        }
      ]
    },
    {
      "cell_type": "code",
      "metadata": {
        "colab": {
          "base_uri": "https://localhost:8080/"
        },
        "id": "m_IYG5iFVRQm",
        "outputId": "1bc4d750-d4bc-4f56-8ce5-2b8263573b0a"
      },
      "source": [
        "data = \"\"\n",
        "n = int(input(\"enter n:\"))\n",
        "for i in range(n):\n",
        "    name = input(\"enter name:\")\n",
        "    age = int(input(\"enter age:\"))\n",
        "    address = input(\"enter address:\")\n",
        "    info = f\"{i}--{name}--{age}--{address}\\n\"\n",
        "    data = data + info\n",
        "    print(data)\n",
        "x = data.split(\"\\n\")[0:-1]\n",
        "print(x)"
      ],
      "execution_count": null,
      "outputs": [
        {
          "output_type": "stream",
          "text": [
            "enter n:2\n",
            "enter name:niraj\n",
            "enter age:25\n",
            "enter address:hadigaun\n",
            "0--niraj--25--hadigaun\n",
            "\n",
            "enter name:pradi\n",
            "enter age:29\n",
            "enter address:hadigaun\n",
            "0--niraj--25--hadigaun\n",
            "1--pradi--29--hadigaun\n",
            "\n",
            "['0--niraj--25--hadigaun', '1--pradi--29--hadigaun']\n"
          ],
          "name": "stdout"
        }
      ]
    },
    {
      "cell_type": "code",
      "metadata": {
        "id": "pImN30DlWdet",
        "colab": {
          "base_uri": "https://localhost:8080/"
        },
        "outputId": "3d18d0ff-ceae-425e-c6f1-e893d22ecad6"
      },
      "source": [
        "final = [ ]\n",
        "for i in x:\n",
        "  final_split = i.split(\"--\")\n",
        "  final.append(final_split)\n",
        "print(final)"
      ],
      "execution_count": null,
      "outputs": [
        {
          "output_type": "stream",
          "text": [
            "[['0', 'niraj', '25', 'hadigaun'], ['1', 'pradi', '29', 'hadigaun']]\n"
          ],
          "name": "stdout"
        }
      ]
    },
    {
      "cell_type": "code",
      "metadata": {
        "id": "Q5pJH6CDbnp6"
      },
      "source": [
        ""
      ],
      "execution_count": null,
      "outputs": []
    }
  ]
}